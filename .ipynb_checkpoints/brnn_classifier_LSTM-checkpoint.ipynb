{
 "cells": [
  {
   "cell_type": "markdown",
   "metadata": {},
   "source": [
    "# Import the required modules."
   ]
  },
  {
   "cell_type": "code",
   "execution_count": 1,
   "metadata": {
    "colab": {},
    "colab_type": "code",
    "id": "1fJk7zmMjcFm"
   },
   "outputs": [
    {
     "name": "stderr",
     "output_type": "stream",
     "text": [
      "/opt/conda/lib/python3.7/site-packages/statsmodels/tools/_testing.py:19: FutureWarning: pandas.util.testing is deprecated. Use the functions in the public API at pandas.testing instead.\n",
      "  import pandas.util.testing as tm\n"
     ]
    }
   ],
   "source": [
    "import numpy as np\n",
    "import pandas as pd\n",
    "import matplotlib.pyplot as plt\n",
    "\n",
    "import seaborn as sns; sns.set()"
   ]
  },
  {
   "cell_type": "code",
   "execution_count": 2,
   "metadata": {
    "colab": {},
    "colab_type": "code",
    "id": "MOKVbdzBjlmP"
   },
   "outputs": [],
   "source": [
    "from keras.models import Sequential, load_model\n",
    "from keras.layers import Dense, LSTM, Bidirectional\n",
    "from keras.utils import plot_model\n",
    "from keras.utils.np_utils import to_categorical\n",
    "from keras.utils import np_utils\n",
    "\n",
    "from sklearn.model_selection import train_test_split\n",
    "from sklearn.preprocessing import LabelEncoder, StandardScaler\n",
    "from sklearn.metrics import confusion_matrix"
   ]
  },
  {
   "cell_type": "markdown",
   "metadata": {},
   "source": [
    "# number_of_samples determine how many samples from the attack and normal dataset should be read and used."
   ]
  },
  {
   "cell_type": "code",
   "execution_count": 3,
   "metadata": {
    "colab": {},
    "colab_type": "code",
    "id": "u7H2jNs1csN2"
   },
   "outputs": [],
   "source": [
    "number_of_samples = 1200000"
   ]
  },
  {
   "cell_type": "markdown",
   "metadata": {},
   "source": [
    "# Read data from attack and normal datasets."
   ]
  },
  {
   "cell_type": "code",
   "execution_count": 4,
   "metadata": {
    "colab": {},
    "colab_type": "code",
    "id": "WkSbWhYPjpdP"
   },
   "outputs": [],
   "source": [
    "data_attack = pd.read_csv('./dataset/dataset_attack.csv', nrows = number_of_samples)"
   ]
  },
  {
   "cell_type": "code",
   "execution_count": 5,
   "metadata": {},
   "outputs": [
    {
     "data": {
      "text/plain": [
       "1200000"
      ]
     },
     "execution_count": 5,
     "metadata": {},
     "output_type": "execute_result"
    }
   ],
   "source": [
    "len(data_attack)"
   ]
  },
  {
   "cell_type": "code",
   "execution_count": 6,
   "metadata": {
    "colab": {},
    "colab_type": "code",
    "id": "MlnVmtsDj0Af"
   },
   "outputs": [],
   "source": [
    "data_normal = pd.read_csv('./dataset/dataset_normal.csv', nrows = number_of_samples)\n",
    "# data_normal = pd.read_csv('./dataset/dataset_normal.csv')\n"
   ]
  },
  {
   "cell_type": "code",
   "execution_count": 7,
   "metadata": {},
   "outputs": [
    {
     "data": {
      "text/plain": [
       "1200000"
      ]
     },
     "execution_count": 7,
     "metadata": {},
     "output_type": "execute_result"
    }
   ],
   "source": [
    "len(data_normal)"
   ]
  },
  {
   "cell_type": "code",
   "execution_count": 8,
   "metadata": {
    "colab": {},
    "colab_type": "code",
    "id": "kMoOG1gDj1eJ"
   },
   "outputs": [],
   "source": [
    "data_normal.columns=[ 'frame.len', 'frame.protocols', 'ip.hdr_len',\n",
    "       'ip.len', 'ip.flags.rb', 'ip.flags.df', 'p.flags.mf', 'ip.frag_offset',\n",
    "       'ip.ttl', 'ip.proto', 'ip.src', 'ip.dst', 'tcp.srcport', 'tcp.dstport',\n",
    "       'tcp.len', 'tcp.ack', 'tcp.flags.res', 'tcp.flags.ns', 'tcp.flags.cwr',\n",
    "       'tcp.flags.ecn', 'tcp.flags.urg', 'tcp.flags.ack', 'tcp.flags.push',\n",
    "       'tcp.flags.reset', 'tcp.flags.syn', 'tcp.flags.fin', 'tcp.window_size',\n",
    "       'tcp.time_delta','class']\n",
    "data_attack.columns=[ 'frame.len', 'frame.protocols', 'ip.hdr_len',\n",
    "       'ip.len', 'ip.flags.rb', 'ip.flags.df', 'p.flags.mf', 'ip.frag_offset',\n",
    "       'ip.ttl', 'ip.proto', 'ip.src', 'ip.dst', 'tcp.srcport', 'tcp.dstport',\n",
    "       'tcp.len', 'tcp.ack', 'tcp.flags.res', 'tcp.flags.ns', 'tcp.flags.cwr',\n",
    "       'tcp.flags.ecn', 'tcp.flags.urg', 'tcp.flags.ack', 'tcp.flags.push',\n",
    "       'tcp.flags.reset', 'tcp.flags.syn', 'tcp.flags.fin', 'tcp.window_size',\n",
    "       'tcp.time_delta','class']"
   ]
  },
  {
   "cell_type": "markdown",
   "metadata": {},
   "source": [
    "# Drop unwanted columns"
   ]
  },
  {
   "cell_type": "code",
   "execution_count": 9,
   "metadata": {
    "colab": {},
    "colab_type": "code",
    "id": "13n5FKSJj4Fn"
   },
   "outputs": [],
   "source": [
    "data_normal=data_normal.drop(['ip.src', 'ip.dst','frame.protocols'],axis=1)\n",
    "data_attack=data_attack.drop(['ip.src', 'ip.dst','frame.protocols'],axis=1)"
   ]
  },
  {
   "cell_type": "code",
   "execution_count": 10,
   "metadata": {
    "colab": {},
    "colab_type": "code",
    "id": "EdgboyqDj-AJ"
   },
   "outputs": [],
   "source": [
    "features=[ 'frame.len', 'ip.hdr_len',\n",
    "       'ip.len', 'ip.flags.rb', 'ip.flags.df', 'p.flags.mf', 'ip.frag_offset',\n",
    "       'ip.ttl', 'ip.proto', 'tcp.srcport', 'tcp.dstport',\n",
    "       'tcp.len', 'tcp.ack', 'tcp.flags.res', 'tcp.flags.ns', 'tcp.flags.cwr',\n",
    "       'tcp.flags.ecn', 'tcp.flags.urg', 'tcp.flags.ack', 'tcp.flags.push',\n",
    "       'tcp.flags.reset', 'tcp.flags.syn', 'tcp.flags.fin', 'tcp.window_size',\n",
    "       'tcp.time_delta']"
   ]
  },
  {
   "cell_type": "code",
   "execution_count": 11,
   "metadata": {
    "colab": {},
    "colab_type": "code",
    "id": "7IxNpgX5kAMg"
   },
   "outputs": [],
   "source": [
    "X_normal= data_normal[features].values\n",
    "X_attack= data_attack[features].values\n",
    "Y_normal= data_normal['class']\n",
    "Y_attack= data_attack['class']\n",
    "X=np.concatenate((X_normal,X_attack))\n",
    "Y=np.concatenate((Y_normal,Y_attack))"
   ]
  },
  {
   "cell_type": "markdown",
   "metadata": {},
   "source": [
    "# Standardise the data"
   ]
  },
  {
   "cell_type": "code",
   "execution_count": 12,
   "metadata": {
    "colab": {},
    "colab_type": "code",
    "id": "b3xIr2rRkWMX"
   },
   "outputs": [],
   "source": [
    "scalar = StandardScaler(copy=True, with_mean=True, with_std=True)\n",
    "scalar.fit(X)\n",
    "X = scalar.transform(X)"
   ]
  },
  {
   "cell_type": "markdown",
   "metadata": {},
   "source": [
    "# the class field, replace value 'attack' with 0 and 'normal' with 1"
   ]
  },
  {
   "cell_type": "code",
   "execution_count": 13,
   "metadata": {
    "colab": {},
    "colab_type": "code",
    "id": "0U1VeOtEkYBX"
   },
   "outputs": [],
   "source": [
    "for i in range(0,len(Y)):\n",
    "    if Y[i] ==\"attack\":\n",
    "        Y[i]=0\n",
    "    else:\n",
    "        Y[i]=1\n",
    "    "
   ]
  },
  {
   "cell_type": "markdown",
   "metadata": {},
   "source": [
    "After feature transformation, we get a 𝑚×𝑛' matrix, where 𝑚 indicates the number of packets and 𝑛' indicates the number of new features after transformation. In order to learn patterns in both long and short term, we use a sliding window to separate continuous packets and reshape the data into a series of time windows with window size 𝑇. The label 𝑦 in each window illustrates the last packet. After reshaping, we have a three-dimensional matrix with shape (𝑚−𝑇 )×𝑇 ×𝑛'. Figure illustrates the workflow of feature extraction, transformation, and reshaping.\n",
    "![dataset transformation](feature_extraction.png)\n",
    "In this way, we change the features from conventional packet-based to window-based, by which we can learn network patterns from both previous (𝑇 −1) packets and current packet."
   ]
  },
  {
   "cell_type": "code",
   "execution_count": 14,
   "metadata": {
    "colab": {},
    "colab_type": "code",
    "id": "PEK_22RTkrvH"
   },
   "outputs": [],
   "source": [
    "features = len(X[0])\n",
    "samples = X.shape[0]\n",
    "train_len = 25\n",
    "input_len = samples - train_len + 1\n",
    "I = np.zeros((input_len, train_len, features))\n",
    "\n",
    "for i in range(input_len):\n",
    "    temp = np.zeros((train_len, features))\n",
    "    for j in range(i, i + train_len):\n",
    "        temp[j-i] = X[j]\n",
    "    I[i] = temp"
   ]
  },
  {
   "cell_type": "code",
   "execution_count": 15,
   "metadata": {},
   "outputs": [
    {
     "data": {
      "text/plain": [
       "(2400000, 25)"
      ]
     },
     "execution_count": 15,
     "metadata": {},
     "output_type": "execute_result"
    }
   ],
   "source": [
    "X.shape"
   ]
  },
  {
   "cell_type": "code",
   "execution_count": 16,
   "metadata": {
    "colab": {},
    "colab_type": "code",
    "id": "1l5ft9AblBln"
   },
   "outputs": [],
   "source": [
    "X_train, X_test, Y_train, Y_test = train_test_split(I, Y[24:2 * number_of_samples], test_size = 0.2)"
   ]
  },
  {
   "cell_type": "markdown",
   "metadata": {},
   "source": [
    "The architecture used is \n",
    "![Model](model_brnn.png)"
   ]
  },
  {
   "cell_type": "code",
   "execution_count": 17,
   "metadata": {
    "colab": {},
    "colab_type": "code",
    "id": "SzHoR1ewdODm"
   },
   "outputs": [],
   "source": [
    "def create_baseline():\n",
    "    model = Sequential()\n",
    "    \n",
    "    model.add(Bidirectional(LSTM(64, activation='tanh', kernel_regularizer='l2')))\n",
    "    model.add(Dense(128, activation = 'relu', kernel_regularizer='l2'))\n",
    "    model.add(Dense(1, activation = 'sigmoid', kernel_regularizer='l2'))\n",
    "    \n",
    "    model.compile(loss = 'binary_crossentropy', optimizer = 'adam', metrics = ['accuracy'])\n",
    "    \n",
    "    return model"
   ]
  },
  {
   "cell_type": "code",
   "execution_count": 18,
   "metadata": {
    "colab": {},
    "colab_type": "code",
    "id": "fW-zMrYFdVP9"
   },
   "outputs": [],
   "source": [
    "model = create_baseline()"
   ]
  },
  {
   "cell_type": "code",
   "execution_count": 19,
   "metadata": {},
   "outputs": [],
   "source": [
    "X_train = np.asarray(X_train).astype('float32')\n",
    "Y_train = np.asarray(Y_train).astype('float32')"
   ]
  },
  {
   "cell_type": "code",
   "execution_count": 20,
   "metadata": {
    "colab": {},
    "colab_type": "code",
    "id": "d6nUrwGNdYUP"
   },
   "outputs": [
    {
     "name": "stdout",
     "output_type": "stream",
     "text": [
      "Epoch 1/20\n",
      "48000/48000 [==============================] - 686s 14ms/step - loss: 0.1315 - accuracy: 0.9717 - val_loss: 0.1168 - val_accuracy: 0.9755\n",
      "Epoch 2/20\n",
      "48000/48000 [==============================] - 684s 14ms/step - loss: 0.1053 - accuracy: 0.9772 - val_loss: 0.0985 - val_accuracy: 0.9790\n",
      "Epoch 3/20\n",
      "48000/48000 [==============================] - 676s 14ms/step - loss: 0.0975 - accuracy: 0.9788 - val_loss: 0.0957 - val_accuracy: 0.9777\n",
      "Epoch 4/20\n",
      "48000/48000 [==============================] - 674s 14ms/step - loss: 0.0920 - accuracy: 0.9801 - val_loss: 0.0886 - val_accuracy: 0.9805\n",
      "Epoch 5/20\n",
      "48000/48000 [==============================] - 689s 14ms/step - loss: 0.0891 - accuracy: 0.9808 - val_loss: 0.0811 - val_accuracy: 0.9820\n",
      "Epoch 6/20\n",
      "48000/48000 [==============================] - 684s 14ms/step - loss: 0.0860 - accuracy: 0.9816 - val_loss: 0.0810 - val_accuracy: 0.9824\n",
      "Epoch 7/20\n",
      "48000/48000 [==============================] - 667s 14ms/step - loss: 0.0838 - accuracy: 0.9822 - val_loss: 0.0776 - val_accuracy: 0.9835\n",
      "Epoch 8/20\n",
      "48000/48000 [==============================] - 670s 14ms/step - loss: 0.0843 - accuracy: 0.9825 - val_loss: 0.0800 - val_accuracy: 0.9830\n",
      "Epoch 9/20\n",
      "48000/48000 [==============================] - 672s 14ms/step - loss: 0.0832 - accuracy: 0.9828 - val_loss: 0.0777 - val_accuracy: 0.9833\n",
      "Epoch 10/20\n",
      "48000/48000 [==============================] - 691s 14ms/step - loss: 0.0825 - accuracy: 0.9831 - val_loss: 0.0874 - val_accuracy: 0.9829\n",
      "Epoch 11/20\n",
      "48000/48000 [==============================] - 679s 14ms/step - loss: 0.0830 - accuracy: 0.9831 - val_loss: 0.0740 - val_accuracy: 0.9844\n",
      "Epoch 12/20\n",
      "48000/48000 [==============================] - 676s 14ms/step - loss: 0.0792 - accuracy: 0.9838 - val_loss: 0.0810 - val_accuracy: 0.9836\n",
      "Epoch 13/20\n",
      "48000/48000 [==============================] - 684s 14ms/step - loss: 0.0785 - accuracy: 0.9842 - val_loss: 0.0736 - val_accuracy: 0.9852\n",
      "Epoch 14/20\n",
      "48000/48000 [==============================] - 681s 14ms/step - loss: 0.0831 - accuracy: 0.9834 - val_loss: 0.0732 - val_accuracy: 0.9848\n",
      "Epoch 15/20\n",
      "48000/48000 [==============================] - 673s 14ms/step - loss: 0.0896 - accuracy: 0.9826 - val_loss: 0.0778 - val_accuracy: 0.9848\n",
      "Epoch 16/20\n",
      "48000/48000 [==============================] - 685s 14ms/step - loss: 0.0773 - accuracy: 0.9847 - val_loss: 0.0854 - val_accuracy: 0.9824\n",
      "Epoch 17/20\n",
      "48000/48000 [==============================] - 685s 14ms/step - loss: 0.0950 - accuracy: 0.9817 - val_loss: 0.1042 - val_accuracy: 0.9785\n",
      "Epoch 18/20\n",
      "48000/48000 [==============================] - 680s 14ms/step - loss: 0.0785 - accuracy: 0.9845 - val_loss: 0.0774 - val_accuracy: 0.9855\n",
      "Epoch 19/20\n",
      "48000/48000 [==============================] - 683s 14ms/step - loss: 0.0807 - accuracy: 0.9843 - val_loss: 0.0702 - val_accuracy: 0.9861\n",
      "Epoch 20/20\n",
      "48000/48000 [==============================] - 692s 14ms/step - loss: 0.0794 - accuracy: 0.9847 - val_loss: 0.0737 - val_accuracy: 0.9860\n"
     ]
    }
   ],
   "source": [
    "history = model.fit(X_train, Y_train, epochs = 20, validation_split=0.2, verbose = 1)"
   ]
  },
  {
   "cell_type": "markdown",
   "metadata": {},
   "source": [
    "Obtained plot of accuracy\n",
    "\n",
    "![plot of accuracy](BRNN_Model_Accuracy.png)"
   ]
  },
  {
   "cell_type": "code",
   "execution_count": 21,
   "metadata": {
    "colab": {},
    "colab_type": "code",
    "id": "7dR8MHphk68X"
   },
   "outputs": [
    {
     "data": {
      "image/png": "[encoded data removed]",
      "text/plain": [
       "<Figure size 432x288 with 1 Axes>"
      ]
     },
     "metadata": {
      "needs_background": "light"
     },
     "output_type": "display_data"
    }
   ],
   "source": [
    "# Plot training & validation accuracy values\n",
    "plt.plot(history.history['accuracy'])\n",
    "plt.plot(history.history['val_accuracy'])\n",
    "plt.title('BRNN Model Accuracy')\n",
    "plt.ylabel('Accuracy')\n",
    "plt.xlabel('Epoch')\n",
    "plt.legend(['Train', 'Test'], loc='lower right')\n",
    "plt.savefig('BRNN Model Accuracy.png')\n",
    "plt.show()"
   ]
  },
  {
   "cell_type": "markdown",
   "metadata": {},
   "source": [
    "Plot of loss\n",
    "![plot of loss](BRNN_Model_Loss.png)"
   ]
  },
  {
   "cell_type": "code",
   "execution_count": 22,
   "metadata": {
    "colab": {},
    "colab_type": "code",
    "id": "eKjMDYIOk72N"
   },
   "outputs": [
    {
     "data": {
      "image/png": "[encoded data removed]",
      "text/plain": [
       "<Figure size 432x288 with 1 Axes>"
      ]
     },
     "metadata": {
      "needs_background": "light"
     },
     "output_type": "display_data"
    }
   ],
   "source": [
    "# Plot training & validation loss values\n",
    "plt.plot(history.history['loss'])\n",
    "plt.plot(history.history['val_loss'])\n",
    "plt.title('BRNN Model  Loss')\n",
    "plt.ylabel('Loss')\n",
    "plt.xlabel('Epoch')\n",
    "plt.legend(['Train', 'Test'], loc='upper left')\n",
    "plt.savefig('BRNN Model Loss.png')\n",
    "plt.show()\n"
   ]
  },
  {
   "cell_type": "code",
   "execution_count": 23,
   "metadata": {
    "colab": {},
    "colab_type": "code",
    "id": "heMaPerEdn3c"
   },
   "outputs": [
    {
     "name": "stdout",
     "output_type": "stream",
     "text": [
      "15000/15000 [==============================] - 66s 4ms/step\n"
     ]
    }
   ],
   "source": [
    "predict = model.predict(X_test, verbose=1)"
   ]
  },
  {
   "cell_type": "markdown",
   "metadata": {},
   "source": [
    "#  Calculate True positive,True negetive,False positive and False negetive values. Create Heatmap."
   ]
  },
  {
   "cell_type": "code",
   "execution_count": 24,
   "metadata": {
    "colab": {},
    "colab_type": "code",
    "id": "rAjFgVm6uGGp"
   },
   "outputs": [],
   "source": [
    "tp = 0\n",
    "tn = 0\n",
    "fp = 0\n",
    "fn = 0\n",
    "predictn = predict.flatten().round()\n",
    "predictn = predictn.tolist()\n",
    "Y_testn = Y_test.tolist()\n",
    "for i in range(len(Y_testn)):\n",
    "    if predictn[i]==1 and Y_testn[i]==1:\n",
    "        tp+=1\n",
    "    elif predictn[i]==0 and Y_testn[i]==0:\n",
    "        tn+=1\n",
    "    elif predictn[i]==0 and Y_testn[i]==1:\n",
    "        fp+=1\n",
    "    elif predictn[i]==1 and Y_testn[i]==0:\n",
    "        fn+=1\n"
   ]
  },
  {
   "cell_type": "code",
   "execution_count": 25,
   "metadata": {
    "colab": {
     "base_uri": "https://localhost:8080/",
     "height": 274
    },
    "colab_type": "code",
    "executionInfo": {
     "elapsed": 949,
     "status": "ok",
     "timestamp": 1557862375571,
     "user": {
      "displayName": "Mohammed Musthafa",
      "photoUrl": "",
      "userId": "16090542423726450957"
     },
     "user_tz": -330
    },
    "id": "0Ad719yjxPL2",
    "outputId": "972ee841-76cd-49f9-f0c7-6961170aae8c"
   },
   "outputs": [
    {
     "data": {
      "image/png": "[encoded data removed]",
      "text/plain": [
       "<Figure size 432x288 with 2 Axes>"
      ]
     },
     "metadata": {
      "needs_background": "light"
     },
     "output_type": "display_data"
    }
   ],
   "source": [
    "to_heat_map =[[tn,fp],[fn,tp]]\n",
    "to_heat_map = pd.DataFrame(to_heat_map, index = [\"Attack\",\"Normal\"],columns = [\"Attack\",\"Normal\"])\n",
    "ax = sns.heatmap(to_heat_map,annot=True, fmt=\"d\")"
   ]
  },
  {
   "cell_type": "markdown",
   "metadata": {},
   "source": [
    "# Save details "
   ]
  },
  {
   "cell_type": "code",
   "execution_count": 26,
   "metadata": {
    "colab": {},
    "colab_type": "code",
    "id": "rMBI_fKCzQBN"
   },
   "outputs": [],
   "source": [
    "figure = ax.get_figure()    \n",
    "figure.savefig('confusion_matrix_BRNN.png', dpi=400)"
   ]
  },
  {
   "cell_type": "code",
   "execution_count": 27,
   "metadata": {
    "colab": {},
    "colab_type": "code",
    "id": "mdcKrPWEfE44"
   },
   "outputs": [],
   "source": [
    "model.save('brnn_model.h5')"
   ]
  },
  {
   "cell_type": "code",
   "execution_count": 28,
   "metadata": {},
   "outputs": [],
   "source": [
    "X_test = np.asarray(X_test).astype('float32')\n",
    "Y_test = np.asarray(Y_test).astype('float32')"
   ]
  },
  {
   "cell_type": "code",
   "execution_count": 29,
   "metadata": {
    "colab": {},
    "colab_type": "code",
    "id": "mv1vi3_KfPHE"
   },
   "outputs": [
    {
     "name": "stdout",
     "output_type": "stream",
     "text": [
      "accuracy: 98.65%\n"
     ]
    }
   ],
   "source": [
    "scores = model.evaluate(X_test, Y_test, verbose=0)\n",
    "print(\"%s: %.2f%%\" % (model.metrics_names[1], scores[1]*100))"
   ]
  },
  {
   "cell_type": "code",
   "execution_count": null,
   "metadata": {},
   "outputs": [],
   "source": []
  },
  {
   "cell_type": "code",
   "execution_count": null,
   "metadata": {},
   "outputs": [],
   "source": []
  },
  {
   "cell_type": "code",
   "execution_count": null,
   "metadata": {},
   "outputs": [],
   "source": []
  }
 ],
 "metadata": {
  "colab": {
   "collapsed_sections": [],
   "name": "brnn_classifier",
   "provenance": [],
   "version": "0.3.2"
  },
  "kernelspec": {
   "display_name": "Python 3",
   "language": "python",
   "name": "python3"
  },
  "language_info": {
   "codemirror_mode": {
    "name": "ipython",
    "version": 3
   },
   "file_extension": ".py",
   "mimetype": "text/x-python",
   "name": "python",
   "nbconvert_exporter": "python",
   "pygments_lexer": "ipython3",
   "version": "3.7.4"
  }
 },
 "nbformat": 4,
 "nbformat_minor": 4
}
